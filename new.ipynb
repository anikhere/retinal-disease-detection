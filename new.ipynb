{
 "cells": [
  {
   "cell_type": "code",
   "execution_count": 2,
   "id": "8b4234f7",
   "metadata": {},
   "outputs": [],
   "source": [
    "import mlflow\n",
    "mlflow.set_tracking_uri(\"http://127.0.0.1:5000\")"
   ]
  },
  {
   "cell_type": "code",
   "execution_count": 3,
   "id": "cf31e564",
   "metadata": {},
   "outputs": [],
   "source": [
    "import tensorflow as tf\n",
    "import mlflow\n",
    "from sklearn import datasets\n",
    "from sklearn.model_selection import train_test_split\n",
    "from sklearn.ensemble import RandomForestRegressor\n",
    "from sklearn.metrics import mean_absolute_error,accuracy_score,confusion_matrix,classification_report\n",
    "from mlflow.models import infer_signature\n",
    "from sklearn.linear_model import LogisticRegression\n",
    "import mlflow.sklearn\n",
    "import numpy as np\n",
    "import pandas as pd\n",
    "from sklearn.linear_model import LogisticRegression\n",
    "import mlflow\n",
    "from sklearn.model_selection import train_test_split\n",
    "from sklearn.neighbors import KNeighborsClassifier\n",
    "from sklearn.pipeline import Pipeline\n",
    "from sklearn.metrics import accuracy_score, mean_absolute_error\n",
    "from sklearn import datasets\n",
    "from mlflow.models.signature import infer_signature\n",
    "import mlflow.sklearn"
   ]
  },
  {
   "cell_type": "code",
   "execution_count": 8,
   "id": "8a98743e",
   "metadata": {},
   "outputs": [],
   "source": [
    "import tensorflow as tf\n",
    "import numpy as np\n",
    "\n",
    "def load_dataset(data_dir, img_size=(150,150), batch=32):\n",
    "    train_ds = tf.keras.utils.image_dataset_from_directory(\n",
    "        data_dir,\n",
    "        validation_split=0.2,\n",
    "        subset=\"training\",\n",
    "        seed=123,\n",
    "        image_size=img_size,\n",
    "        batch_size=batch\n",
    "    )\n",
    "    val_ds = tf.keras.utils.image_dataset_from_directory(\n",
    "        data_dir,\n",
    "        validation_split=0.2,\n",
    "        subset=\"validation\",\n",
    "        seed=123,\n",
    "        image_size=img_size,\n",
    "        batch_size=batch\n",
    "    )\n",
    "    return train_ds, val_ds\n",
    "\n",
    "def preprocess_image(img_path, img_size=(150,150)):\n",
    "    img = tf.keras.utils.load_img(img_path, target_size=img_size)\n",
    "    img = tf.keras.utils.img_to_array(img)\n",
    "    img = np.expand_dims(img, axis=0) / 255.0\n",
    "    return img\n"
   ]
  },
  {
   "cell_type": "code",
   "execution_count": null,
   "id": "18a96e77",
   "metadata": {},
   "outputs": [
    {
     "name": "stderr",
     "output_type": "stream",
     "text": [
      "WARNING:urllib3.connectionpool:Retrying (Retry(total=6, connect=6, read=7, redirect=7, status=7)) after connection broken by 'NewConnectionError('<urllib3.connection.HTTPConnection object at 0x0000020A1B99F7C0>: Failed to establish a new connection: [WinError 10061] No connection could be made because the target machine actively refused it')': /api/2.0/mlflow/experiments/get-by-name?experiment_name=Eye+Disease+Detection\n",
      "WARNING:urllib3.connectionpool:Retrying (Retry(total=5, connect=5, read=7, redirect=7, status=7)) after connection broken by 'NewConnectionError('<urllib3.connection.HTTPConnection object at 0x0000020A1B99F0A0>: Failed to establish a new connection: [WinError 10061] No connection could be made because the target machine actively refused it')': /api/2.0/mlflow/experiments/get-by-name?experiment_name=Eye+Disease+Detection\n",
      "WARNING:urllib3.connectionpool:Retrying (Retry(total=4, connect=4, read=7, redirect=7, status=7)) after connection broken by 'NewConnectionError('<urllib3.connection.HTTPConnection object at 0x0000020A1B99FD00>: Failed to establish a new connection: [WinError 10061] No connection could be made because the target machine actively refused it')': /api/2.0/mlflow/experiments/get-by-name?experiment_name=Eye+Disease+Detection\n"
     ]
    }
   ],
   "source": [
    "import mlflow\n",
    "mlflow.set_tracking_uri(\"http://127.0.0.1:5000\")\n",
    "\n",
    "import tensorflow as tf\n",
    "from tensorflow.keras import layers, models\n",
    "import mlflow.tensorflow\n",
    "\n",
    "import os\n",
    "\n",
    "data_dir = \"data\"\n",
    "mlflow.set_experiment(\"Eye Disease Detection\")\n",
    "\n",
    "def build_model():\n",
    "    model = models.Sequential([\n",
    "        layers.RandomFlip(\"horizontal\"),\n",
    "        layers.RandomRotation(0.1),\n",
    "        layers.Rescaling(1./255),\n",
    "\n",
    "        layers.Conv2D(32, (3,3), activation='relu', input_shape=(150,150,3)),\n",
    "        layers.MaxPooling2D(),\n",
    "        layers.BatchNormalization(),\n",
    "\n",
    "        layers.Conv2D(64, (3,3), activation='relu'),\n",
    "        layers.MaxPooling2D(),\n",
    "        layers.BatchNormalization(),\n",
    "\n",
    "        layers.Conv2D(128, (3,3), activation='relu'),\n",
    "        layers.MaxPooling2D(),\n",
    "        layers.BatchNormalization(),\n",
    "\n",
    "        layers.Flatten(),\n",
    "        layers.Dense(128, activation='relu'),\n",
    "        layers.Dropout(0.4),\n",
    "        layers.Dense(3, activation='softmax')\n",
    "    ])\n",
    "\n",
    "    model.compile(optimizer='adam',\n",
    "                  loss='sparse_categorical_crossentropy',\n",
    "                  metrics=['accuracy'])\n",
    "    return model\n",
    "\n",
    "with mlflow.start_run():\n",
    "    train_ds, val_ds = load_dataset(data_dir)\n",
    "    model = build_model()\n",
    "\n",
    "    history = model.fit(train_ds, validation_data=val_ds, epochs=10)\n",
    "\n",
    "    mlflow.log_metric(\"train_accuracy\", history.history['accuracy'][-1])\n",
    "    mlflow.log_metric(\"val_accuracy\", history.history['val_accuracy'][-1])\n",
    "\n",
    "    os.makedirs(\"models\", exist_ok=True)\n",
    "    model.save(\"models/eye_disease_model.h5\")\n",
    "    mlflow.log_artifact(\"models/eye_disease_model.h5\")\n",
    "\n",
    "print(\"✅ Training completed & model saved!\")\n"
   ]
  },
  {
   "cell_type": "code",
   "execution_count": 12,
   "id": "c9395699",
   "metadata": {},
   "outputs": [
    {
     "name": "stderr",
     "output_type": "stream",
     "text": [
      "WARNING:absl:Compiled the loaded model, but the compiled metrics have yet to be built. `model.compile_metrics` will be empty until you train or evaluate the model.\n"
     ]
    },
    {
     "name": "stdout",
     "output_type": "stream",
     "text": [
      "\u001b[1m1/1\u001b[0m \u001b[32m━━━━━━━━━━━━━━━━━━━━\u001b[0m\u001b[37m\u001b[0m \u001b[1m2s\u001b[0m 2s/step\n",
      "🩺 Prediction: Glaucoma, Confidence: 20.90%\n"
     ]
    }
   ],
   "source": [
    "import tensorflow as tf\n",
    "import numpy as np\n",
    "\n",
    "\n",
    "\n",
    "model = tf.keras.models.load_model(\"eye_disease_model.h5\")\n",
    "\n",
    "class_names = ['Normal', 'Cataract', 'Glaucoma']  # change as needed\n",
    "\n",
    "img_path = \"eye.jpg\"\n",
    "img = preprocess_image(img_path)\n",
    "pred = model.predict(img)\n",
    "\n",
    "class_idx = np.argmax(pred)\n",
    "confidence = pred[0][class_idx]\n",
    "\n",
    "print(f\"🩺 Prediction: {class_names[class_idx]}, Confidence: {confidence*100:.2f}%\")\n"
   ]
  },
  {
   "cell_type": "code",
   "execution_count": 1,
   "id": "a38f5efa",
   "metadata": {},
   "outputs": [
    {
     "name": "stdout",
     "output_type": "stream",
     "text": [
      "TF version: 2.20.0\n"
     ]
    }
   ],
   "source": [
    "import tensorflow as tf\n",
    "print(\"TF version:\", tf.__version__)"
   ]
  },
  {
   "cell_type": "code",
   "execution_count": null,
   "id": "9faaabfd",
   "metadata": {},
   "outputs": [],
   "source": []
  }
 ],
 "metadata": {
  "kernelspec": {
   "display_name": "Python (mlflow_env)",
   "language": "python",
   "name": "mlflow_env"
  },
  "language_info": {
   "codemirror_mode": {
    "name": "ipython",
    "version": 3
   },
   "file_extension": ".py",
   "mimetype": "text/x-python",
   "name": "python",
   "nbconvert_exporter": "python",
   "pygments_lexer": "ipython3",
   "version": "3.10.19"
  }
 },
 "nbformat": 4,
 "nbformat_minor": 5
}
